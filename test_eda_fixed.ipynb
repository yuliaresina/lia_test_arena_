{
  "cells": [
    {
      "cell_type": "markdown",
      "id": "f010dea6",
      "metadata": {},
      "source": [
        "# **Priliminary data analysis of Arena HUBs**\n",
        "\n",
        "## Data are the logs from a remote Arena system, access control system that unlocks doors.\n",
        "\n",
        "Initial files contain the following records:\n",
        "\n",
        "*_id –  record ID\n",
        "\n",
        "_uuid – device identifier, from hardware ( IMEI-like value).\n",
        "\n",
        "_timestamp – event time (UTC)\n",
        "\n",
        "rpc – the type of action/event (always “unlock” in the file).\n",
        "\n",
        "_ack_timestamp – acknowledgement time (when the system confirmed the event).\n",
        "\n",
        "_ack_status – acknowledgement result (0 means success, empty means not acknowledged).*\n",
        "\n",
        "Initial second dataset contain diagnostic telemetry and metadata \n",
        "It’s recording resets, uptime, firmware versions, and network signal strength.\n",
        "\n",
        "*_id – unique row identifier \n",
        "\n",
        "_uuid – device identifier \n",
        "\n",
        "timestamp – when the record was captured\n",
        "\n",
        "just_booted – t means the device had just restarted when the log was recorded.\n",
        "\n",
        "reset_reason – numeric code for why the device reset (e.g., 0, 2, 16 … probably mapped to watchdog, power cycle, etc.).\n",
        "\n",
        "uptime – how many seconds the device had been running before the log.\n",
        "\n",
        "fw_version – firmware version running on the device.\n",
        "\n",
        "modem_fw_version – modem firmware version \n",
        "\n",
        "rsrp – signal strength (Reference Signal Received Power, typical for LTE/5G modules).\n",
        "*\n"
      ]
    },
    {
      "cell_type": "code",
      "execution_count": 169,
      "id": "8f5c4b91",
      "metadata": {},
      "outputs": [
        {
          "name": "stdout",
          "output_type": "stream",
          "text": [
            "Saved as: Enhets data - Katarinasstädtjänst Enhet Grind - RSRP_corr.csv\n",
            "Saved as: Enhets data - SMRTEC huvudEntre - RSRP.csv_corr.csv\n",
            "Saved as: Enhets data - Varbergs boxningsklubb - RSRP.csv_corr.csv\n"
          ]
        }
      ],
      "source": [
        "import pandas as pd\n",
        "\n",
        "# Load your CSV\n",
        "file_path = \"Enhets data - Katarinasstädtjänst Enhet Grind - RSRP.csv\"\n",
        "df = pd.read_csv(file_path)\n",
        "\n",
        "# Replace 'date' column with merged datetime\n",
        "df['date'] = pd.to_datetime(\n",
        "    df['date'].astype(str) + \" \" + df['time'].astype(str),\n",
        "    errors='coerce'\n",
        ")\n",
        "\n",
        "# Drop the separate 'time' column\n",
        "df = df.drop(columns=['time'])\n",
        "\n",
        "# Optionally rename 'date' → 'datetime'\n",
        "df = df.rename(columns={'date': 'timestamp'})\n",
        "\n",
        "# Save to new CSV\n",
        "output_file = \"Enhets data - Katarinasstädtjänst Enhet Grind - RSRP_corr.csv\"\n",
        "df.to_csv(output_file, index=False)\n",
        "\n",
        "print(f\"Saved as: {output_file}\")\n",
        "\n",
        "# Load your CSV\n",
        "file_path = \"Enhets data - SMRTEC huvudEntre - RSRP.csv\"\n",
        "df = pd.read_csv(file_path)\n",
        "\n",
        "# Replace 'date' column with merged datetime\n",
        "df['date'] = pd.to_datetime(\n",
        "    df['date'].astype(str) + \" \" + df['time'].astype(str),\n",
        "    errors='coerce'\n",
        ")\n",
        "\n",
        "# Drop the separate 'time' column\n",
        "df = df.drop(columns=['time'])\n",
        "\n",
        "# Optionally rename 'date' → 'datetime'\n",
        "df = df.rename(columns={'date': 'timestamp'})\n",
        "\n",
        "# Save to new CSV\n",
        "output_file = \"Enhets data - SMRTEC huvudEntre - RSRP.csv_corr.csv\"\n",
        "df.to_csv(output_file, index=False)\n",
        "\n",
        "print(f\"Saved as: {output_file}\")\n",
        "\n",
        "# Load your CSV\n",
        "file_path = \"Enhets data - Varbergs boxningsklubb - RSRP.csv\"\n",
        "df = pd.read_csv(file_path)\n",
        "\n",
        "# Replace 'date' column with merged datetime\n",
        "df['date'] = pd.to_datetime(\n",
        "    df['date'].astype(str) + \" \" + df['time'].astype(str),\n",
        "    errors='coerce'\n",
        ")\n",
        "\n",
        "# Drop the separate 'time' column\n",
        "df = df.drop(columns=['time'])\n",
        "\n",
        "# Optionally rename 'date' → 'datetime'\n",
        "df = df.rename(columns={'date': 'timestamp'})\n",
        "\n",
        "# Save to new CSV\n",
        "output_file = \"Enhets data - Varbergs boxningsklubb - RSRP.csv_corr.csv\"\n",
        "df.to_csv(output_file, index=False)\n",
        "\n",
        "print(f\"Saved as: {output_file}\")"
      ]
    },
    {
      "cell_type": "code",
      "execution_count": 170,
      "id": "23fdf4e6",
      "metadata": {},
      "outputs": [
        {
          "name": "stdout",
          "output_type": "stream",
          "text": [
            "Saved as: Enhets data - Katarinasstädtjänst Enhet Grind - Unlock_corr.csv\n",
            "Saved as: Enhets data - SMRTEC huvudEntre - Unlock_corr.csv\n"
          ]
        }
      ],
      "source": [
        "import pandas as pd\n",
        "\n",
        "# Load your CSV\n",
        "file_path = \"Enhets data - Katarinasstädtjänst Enhet Grind - Unlock.csv\"\n",
        "df = pd.read_csv(file_path)\n",
        "\n",
        "# Merge date1 + time1 into datetime1\n",
        "df['_timestamp'] = pd.to_datetime(\n",
        "    df['date1'].astype(str) + \" \" + df['time1'].astype(str),\n",
        "    errors='coerce'\n",
        ")\n",
        "\n",
        "# Merge date2 + time2 into datetime2\n",
        "df['_ack_timestamp'] = pd.to_datetime(\n",
        "    df['date2'].astype(str) + \" \" + df['time2'].astype(str),\n",
        "    errors='coerce'\n",
        ")\n",
        "\n",
        "# Drop original date/time columns\n",
        "df = df.drop(columns=['date1', 'time1', 'date2', 'time2'])\n",
        "\n",
        "# Reorder columns\n",
        "df = df[['  _id ', ' _uuid ', '_timestamp', 'rpc   ', '_ack_timestamp', '_ack_status']]\n",
        "\n",
        "# Save to new CSV\n",
        "output_file = \"Enhets data - Katarinasstädtjänst Enhet Grind - Unlock_corr.csv\"\n",
        "df.to_csv(output_file, index=False)\n",
        "\n",
        "print(f\"Saved as: {output_file}\")\n",
        "\n",
        "import pandas as pd\n",
        "\n",
        "# Load your CSV\n",
        "file_path = \"Enhets data - SMRTEC huvudEntre - Unlock.csv\"\n",
        "df = pd.read_csv(file_path)\n",
        "\n",
        "# Merge date1 + time1 into datetime1\n",
        "df['_timestamp'] = pd.to_datetime(\n",
        "    df['date1'].astype(str) + \" \" + df['time1'].astype(str),\n",
        "    errors='coerce'\n",
        ")\n",
        "\n",
        "# Merge date2 + time2 into datetime2\n",
        "df['_ack_timestamp'] = pd.to_datetime(\n",
        "    df['date2'].astype(str) + \" \" + df['time2'].astype(str),\n",
        "    errors='coerce'\n",
        ")\n",
        "\n",
        "# Drop original date/time columns\n",
        "df = df.drop(columns=['date1', 'time1', 'date2', 'time2'])\n",
        "\n",
        "# Reorder columns\n",
        "df = df[['  _id ', ' _uuid ', '_timestamp', 'rpc   ', '_ack_timestamp', '_ack_status']]\n",
        "\n",
        "# Save to new CSV\n",
        "output_file = \"Enhets data - SMRTEC huvudEntre - Unlock_corr.csv\"\n",
        "df.to_csv(output_file, index=False)\n",
        "\n",
        "print(f\"Saved as: {output_file}\")"
      ]
    },
    {
      "cell_type": "code",
      "execution_count": 171,
      "id": "89b18338",
      "metadata": {},
      "outputs": [
        {
          "name": "stdout",
          "output_type": "stream",
          "text": [
            "['  _id ', ' _uuid ', 'date1', 'time1', 'rpc   ', 'date2', 'time2', '_ack_status']\n"
          ]
        }
      ],
      "source": [
        "file_path = \"Enhets data - Katarinasstädtjänst Enhet Grind - Unlock.csv\"\n",
        "df = pd.read_csv(file_path)\n",
        "\n",
        "print(df.columns.tolist())"
      ]
    },
    {
      "cell_type": "code",
      "execution_count": 172,
      "id": "e8e661eb",
      "metadata": {},
      "outputs": [],
      "source": [
        "import pandas as pd\n",
        "\n",
        "# Load both CSVs\n",
        "rsrp = pd.read_csv(\"Enhets data - Katarinasstädtjänst Enhet Grind - RSRP_corr.csv\")\n",
        "unlock = pd.read_csv(\"Enhets data - Katarinasstädtjänst Enhet Grind - Unlock_corr.csv\")\n",
        "\n",
        "# Combine them vertically\n",
        "combined = pd.concat([rsrp, unlock], ignore_index=True)\n",
        "\n",
        "# Save result\n",
        "combined.to_csv(\"Enhets data - Katarinasstädtjänst Enhet Grind _combined.csv\", index=False)\n",
        "df = pd.read_csv (\"Enhets data - Katarinasstädtjänst Enhet Grind _combined.csv\")\n",
        "df.head()\n",
        "df.shape    \n",
        "\n",
        "# Load both CSVs\n",
        "rsrp = pd.read_csv(\"Enhets data - SMRTEC huvudEntre - RSRP.csv_corr.csv\")\n",
        "unlock = pd.read_csv(\"Enhets data - SMRTEC huvudEntre - Unlock_corr.csv\")\n",
        "\n",
        "# Combine them vertically\n",
        "combined = pd.concat([rsrp, unlock], ignore_index=True)\n",
        "\n",
        "# Save result\n",
        "combined.to_csv(\"Enhets data - SMRTEC huvudEntre_combined.csv\", index=False)\n",
        "   \n",
        "# Load both CSVs\n",
        "rsrp = pd.read_csv(\"Enhets data - Varbergs boxningsklubb - RSRP.csv_corr.csv\")\n",
        "unlock = pd.read_csv(\"Enhets data - Varbergs boxningsklubb - Unlock.csv\")\n",
        "\n",
        "# Combine them vertically\n",
        "combined = pd.concat([rsrp, unlock], ignore_index=True)\n",
        "\n",
        "# Save result\n",
        "combined.to_csv(\"Enhets data - Varbergs boxningsklubb_combined.csv\", index=False)\n",
        "   \n",
        "   "
      ]
    },
    {
      "cell_type": "code",
      "execution_count": 173,
      "id": "e5fb87f4",
      "metadata": {},
      "outputs": [
        {
          "name": "stdout",
          "output_type": "stream",
          "text": [
            "Processed: Enhets data - Katarinasstädtjänst Enhet Grind _combined.csv\n",
            "Processed: Enhets data - Katarinasstädtjänst Enhet Grind _combined_with_response_time.csv\n",
            "Processed: Enhets data - SMRTEC huvudEntre_combined.csv\n",
            "Processed: Enhets data - Varbergs boxningsklubb_combined.csv\n"
          ]
        }
      ],
      "source": [
        "import pandas as pd\n",
        "import os\n",
        "from glob import glob\n",
        "\n",
        "# Set input and output directories\n",
        "input_folder = '3_enheterna_input_folder/'   # Replace with your folder path\n",
        "output_folder = '3_enheterna_output_folder/'  # Folder to save updated CSVs\n",
        "\n",
        "# Create output directory if it doesn't exist\n",
        "os.makedirs(output_folder, exist_ok=True)\n",
        "\n",
        "# Get all CSV files in the input folder\n",
        "csv_files = glob(os.path.join(input_folder, '*.csv'))\n",
        "\n",
        "# Process each file\n",
        "for file_path in csv_files:\n",
        "    try:\n",
        "        # Read CSV\n",
        "        df = pd.read_csv(file_path)\n",
        "        df.columns = df.columns.str.strip()\n",
        "\n",
        "        # Convert to datetime\n",
        "        df['_timestamp'] = pd.to_datetime(df['_timestamp'], errors='coerce')\n",
        "        df['_ack_timestamp'] = pd.to_datetime(df['_ack_timestamp'], errors='coerce')\n",
        "\n",
        "        # Calculate response time\n",
        "        df['response_time_seconds'] = (\n",
        "            df['_ack_timestamp'] - df['_timestamp']\n",
        "        ).dt.total_seconds()\n",
        "\n",
        "        # Build output file path\n",
        "        filename = os.path.basename(file_path)\n",
        "        output_path = os.path.join(output_folder, filename)\n",
        "\n",
        "        # Save to output file\n",
        "        df.to_csv(output_path, index=False)\n",
        "\n",
        "        print(f\"Processed: {filename}\")\n",
        "\n",
        "    except Exception as e:\n",
        "        print(f\"Failed to process {file_path}: {e}\")\n"
      ]
    },
    {
      "cell_type": "code",
      "execution_count": 174,
      "id": "efb1e9f5",
      "metadata": {},
      "outputs": [
        {
          "name": "stdout",
          "output_type": "stream",
          "text": [
            "Response time added. Saved to: 3_enheterna_input_folder/Enhets data - Katarinasstädtjänst Enhet Grind _combined_with_response_time.csv\n"
          ]
        }
      ],
      "source": [
        "import pandas as pd\n",
        "\n",
        "# Load the CSV file\n",
        "input_file = '3_enheterna_input_folder/Enhets data - Katarinasstädtjänst Enhet Grind _combined.csv'  # Replace with your actual file path\n",
        "output_file = '3_enheterna_input_folder/Enhets data - Katarinasstädtjänst Enhet Grind _combined_with_response_time.csv'  # Output file\n",
        "\n",
        "# Read the CSV\n",
        "df = pd.read_csv(input_file)\n",
        "\n",
        "# Clean column names\n",
        "df.columns = df.columns.str.strip()\n",
        "\n",
        "# Convert timestamp columns to datetime\n",
        "df['_timestamp'] = pd.to_datetime(df['_timestamp'], errors='coerce')\n",
        "df['_ack_timestamp'] = pd.to_datetime(df['_ack_timestamp'], errors='coerce')\n",
        "\n",
        "# Calculate response time in seconds\n",
        "df['response_time_seconds'] = (\n",
        "    df['_ack_timestamp'] - df['_timestamp']\n",
        ").dt.total_seconds()\n",
        "\n",
        "# Save to a new CSV file\n",
        "df.to_csv(output_file, index=False)\n",
        "\n",
        "print(f\"Response time added. Saved to: {output_file}\")\n"
      ]
    },
    {
      "cell_type": "code",
      "execution_count": 175,
      "id": "50ed4c49",
      "metadata": {},
      "outputs": [
        {
          "name": "stdout",
          "output_type": "stream",
          "text": [
            "['_id', '_uuid', 'timestamp', 'just_booted', 'reset_reason', 'uptime', 'fw_version', 'modem_fw_version', 'rsrp', '_timestamp', 'rpc', '_ack_timestamp', '_ack_status', 'response_time_seconds']\n"
          ]
        },
        {
          "data": {
            "text/plain": [
              "(1050, 14)"
            ]
          },
          "execution_count": 175,
          "metadata": {},
          "output_type": "execute_result"
        }
      ],
      "source": [
        "file_path = \"3_enheterna_output_folder/Enhets data - SMRTEC huvudEntre_combined.csv\"  # adjust path if needed\n",
        "df = pd.read_csv(file_path)\n",
        "print(df.columns.tolist())\n",
        "df.shape"
      ]
    },
    {
      "cell_type": "code",
      "execution_count": 176,
      "id": "28b24319",
      "metadata": {},
      "outputs": [
        {
          "name": "stdout",
          "output_type": "stream",
          "text": [
            "['_id', '_uuid', 'timestamp', 'just_booted', 'reset_reason', 'uptime', 'fw_version', 'modem_fw_version', 'rsrp', '_timestamp', 'rpc', '_ack_timestamp', '_ack_status', 'response_time_seconds']\n"
          ]
        },
        {
          "data": {
            "text/plain": [
              "(2687, 14)"
            ]
          },
          "execution_count": 176,
          "metadata": {},
          "output_type": "execute_result"
        }
      ],
      "source": [
        "file_path = \"3_enheterna_output_folder/Enhets data - Katarinasstädtjänst Enhet Grind _combined.csv\"  # adjust path if needed\n",
        "df = pd.read_csv(file_path)\n",
        "print(df.columns.tolist())\n",
        "df.shape "
      ]
    },
    {
      "cell_type": "code",
      "execution_count": 177,
      "id": "0ac28299",
      "metadata": {},
      "outputs": [
        {
          "name": "stdout",
          "output_type": "stream",
          "text": [
            "['_id', '_uuid', 'timestamp', 'just_booted', 'reset_reason', 'uptime', 'fw_version', 'modem_fw_version', 'rsrp', '_timestamp', 'rpc', '_ack_timestamp', '_ack_status', 'response_time_seconds']\n"
          ]
        },
        {
          "data": {
            "text/plain": [
              "(1466, 14)"
            ]
          },
          "execution_count": 177,
          "metadata": {},
          "output_type": "execute_result"
        }
      ],
      "source": [
        "file_path = \"3_enheterna_output_folder/Enhets data - Varbergs boxningsklubb_combined.csv\"  # adjust path if needed\n",
        "df = pd.read_csv(file_path)\n",
        "print(df.columns.tolist())\n",
        "df.shape\n"
      ]
    },
    {
      "cell_type": "code",
      "execution_count": 178,
      "id": "535bf99c",
      "metadata": {},
      "outputs": [
        {
          "name": "stdout",
          "output_type": "stream",
          "text": [
            "\n",
            "===== RESPONSE TIME SUMMARY =====\n",
            "count    765.000000\n",
            "mean       0.909926\n",
            "std        1.923358\n",
            "min        0.123102\n",
            "25%        0.323860\n",
            "50%        0.679821\n",
            "75%        0.957693\n",
            "max       44.291426\n",
            "Name: response_time_seconds, dtype: float64\n"
          ]
        },
        {
          "data": {
            "image/png": "[encoded data removed]",
            "text/plain": [
              "<Figure size 1000x600 with 1 Axes>"
            ]
          },
          "metadata": {},
          "output_type": "display_data"
        },
        {
          "data": {
            "image/png": "[encoded data removed]",
            "text/plain": [
              "<Figure size 800x400 with 1 Axes>"
            ]
          },
          "metadata": {},
          "output_type": "display_data"
        }
      ],
      "source": [
        "# ==============================================\n",
        "# Response Time Distribution Analysis\n",
        "# ==============================================\n",
        "\n",
        "import pandas as pd\n",
        "import matplotlib.pyplot as plt\n",
        "import seaborn as sns\n",
        "\n",
        "# --- Load Data ---\n",
        "file_path = \"3_enheterna_output_folder/Enhets data - SMRTEC huvudEntre_combined.csv\"  # adjust path if needed\n",
        "df = pd.read_csv(file_path)\n",
        "\n",
        "# --- Data Cleaning ---\n",
        "# Focus on RPC entries that have response times\n",
        "df_rpcs = df[df['response_time_seconds'].notna()].copy()\n",
        "\n",
        "# Convert response_time_seconds to numeric (if not already)\n",
        "df_rpcs['response_time_seconds'] = pd.to_numeric(df_rpcs['response_time_seconds'], errors='coerce')\n",
        "\n",
        "# Drop invalid or zero values\n",
        "df_rpcs = df_rpcs[df_rpcs['response_time_seconds'] > 0]\n",
        "\n",
        "# --- Summary Statistics ---\n",
        "summary = df_rpcs['response_time_seconds'].describe()\n",
        "print(\"\\n===== RESPONSE TIME SUMMARY =====\")\n",
        "print(summary)\n",
        "\n",
        "# --- Plot Distribution ---\n",
        "plt.figure(figsize=(10, 6))\n",
        "sns.histplot(df_rpcs['response_time_seconds'], bins=30, kde=True)\n",
        "plt.title('Response Time Distribution')\n",
        "plt.xlabel('Response Time (seconds)')\n",
        "plt.ylabel('Frequency')\n",
        "plt.grid(True, linestyle='--', alpha=0.6)\n",
        "plt.tight_layout()\n",
        "plt.show()\n",
        "\n",
        "# --- Optional: Boxplot for Outliers ---\n",
        "plt.figure(figsize=(8, 4))\n",
        "sns.boxplot(x=df_rpcs['response_time_seconds'])\n",
        "plt.title('Response Time Boxplot (Outlier Detection)')\n",
        "plt.xlabel('Response Time (seconds)')\n",
        "plt.grid(True, linestyle='--', alpha=0.6)\n",
        "plt.tight_layout()\n",
        "plt.show()\n"
      ]
    },
    {
      "cell_type": "code",
      "execution_count": 179,
      "id": "ce92331b",
      "metadata": {},
      "outputs": [
        {
          "name": "stdout",
          "output_type": "stream",
          "text": [
            "['_id', '_uuid', 'timestamp', 'just_booted', 'reset_reason', 'uptime', 'fw_version', 'modem_fw_version', 'rsrp', '_timestamp', 'rpc', '_ack_timestamp', '_ack_status', 'response_time_seconds']\n"
          ]
        },
        {
          "data": {
            "text/plain": [
              "(1466, 14)"
            ]
          },
          "execution_count": 179,
          "metadata": {},
          "output_type": "execute_result"
        }
      ],
      "source": [
        "# ==============================================\n",
        "#  Response Time Distribution Analysis VARBERGS\n",
        "# ==============================================\n",
        "\n",
        "import pandas as pd\n",
        "import matplotlib.pyplot as plt\n",
        "import seaborn as sns\n",
        "\n",
        "# --- Load Data ---\n",
        "file_path = \"3_enheterna_output_folder/Enhets data - Varbergs boxningsklubb_combined.csv\"  # adjust path if needed\n",
        "df = pd.read_csv(file_path)\n",
        "print(df.columns.tolist())\n",
        "df.shape"
      ]
    },
    {
      "cell_type": "code",
      "execution_count": 180,
      "id": "45c9e6f0",
      "metadata": {},
      "outputs": [
        {
          "name": "stdout",
          "output_type": "stream",
          "text": [
            "['_id', '_uuid', 'timestamp', 'just_booted', 'reset_reason', 'uptime', 'fw_version', 'modem_fw_version', 'rsrp', '_timestamp', 'rpc', '_ack_timestamp', '_ack_status', 'response_time_seconds']\n"
          ]
        },
        {
          "data": {
            "text/plain": [
              "(2687, 14)"
            ]
          },
          "execution_count": 180,
          "metadata": {},
          "output_type": "execute_result"
        }
      ],
      "source": [
        "# ==============================================\n",
        "#  Response Time Distribution Analysis GRIND\n",
        "# ==============================================\n",
        "\n",
        "import pandas as pd\n",
        "import matplotlib.pyplot as plt\n",
        "import seaborn as sns\n",
        "\n",
        "# --- Load Data ---\n",
        "file_path = \"3_enheterna_output_folder/Enhets data - Katarinasstädtjänst Enhet Grind _combined.csv\"  \n",
        "df = pd.read_csv(file_path)\n",
        "print(df.columns.tolist())\n",
        "df.shape "
      ]
    },
    {
      "cell_type": "code",
      "execution_count": 181,
      "id": "4972b4e5",
      "metadata": {},
      "outputs": [
        {
          "data": {
            "image/png": "[encoded data removed]",
            "text/plain": [
              "<Figure size 1400x500 with 3 Axes>"
            ]
          },
          "metadata": {},
          "output_type": "display_data"
        }
      ],
      "source": [
        "import pandas as pd\n",
        "import matplotlib.pyplot as plt\n",
        "\n",
        "# === File paths ===\n",
        "files = {\n",
        "    \"Grind\": \"3_enheterna_output_folder/Enhets data - Katarinasstädtjänst Enhet Grind _combined.csv\",\n",
        "    \"SMRTEC\": \"3_enheterna_output_folder/Enhets data - SMRTEC huvudEntre_combined.csv\",\n",
        "    \"Varbergs\": \"3_enheterna_output_folder/Enhets data - Varbergs boxningsklubb_combined.csv\",\n",
        "}\n",
        "\n",
        "# === Load data ===\n",
        "dfs = {name: pd.read_csv(path) for name, path in files.items()}\n",
        "\n",
        "# === Plot distributions from the fixed 'reset_reason' column ===\n",
        "fig, axes = plt.subplots(1, 3, figsize=(14, 5), sharey=True)\n",
        "\n",
        "for ax, (name, df) in zip(axes, dfs.items()):\n",
        "    s = df[\"reset_reason\"].dropna()\n",
        "\n",
        "    # Try to display numeric codes cleanly; fall back to strings if needed\n",
        "    try:\n",
        "        s = s.astype(float).astype(int)\n",
        "    except Exception:\n",
        "        s = s.astype(str).str.strip()\n",
        "\n",
        "    counts = s.value_counts().sort_index()\n",
        "    counts.plot(kind=\"bar\", ax=ax)\n",
        "\n",
        "    ax.set_title(f\"{name} — Reset Reason Distribution\")\n",
        "    ax.set_xlabel(\"reset_reason\")\n",
        "    ax.set_ylabel(\"Count\")\n",
        "\n",
        "plt.tight_layout()\n",
        "plt.show()\n",
        "\n",
        "\n"
      ]
    },
    {
      "cell_type": "code",
      "execution_count": 182,
      "id": "0a1b9933",
      "metadata": {},
      "outputs": [
        {
          "name": "stdout",
          "output_type": "stream",
          "text": [
            "✅ Updated file saved as '\n"
          ]
        }
      ],
      "source": [
        "import pandas as pd\n",
        "\n",
        "# Load your CSV file\n",
        "df = pd.read_csv(\"3_enheterna_output_folder/Enhets data - Varbergs boxningsklubb_combined.csv\")\n",
        "\n",
        "# Create or update the _ack_status column\n",
        "df['_ack_status'] = df['_ack_timestamp'].apply(lambda x: 0 if pd.notna(x) and str(x).strip() != '' else None)\n",
        "\n",
        "# Save the updated file\n",
        "df.to_csv(\"3_enheterna_output_folder/Enhets data - Varbergs boxningsklubb_combined.csv\", index=False)\n",
        "\n",
        "print(\"✅ Updated file saved as '\")\n"
      ]
    },
    {
      "cell_type": "code",
      "execution_count": 183,
      "id": "51d9db52",
      "metadata": {},
      "outputs": [
        {
          "name": "stdout",
          "output_type": "stream",
          "text": [
            "✅ Updated file saved as '\n"
          ]
        }
      ],
      "source": [
        "import pandas as pd\n",
        "\n",
        "# Load your CSV file\n",
        "df = pd.read_csv(\"Enhets data - Varbergs boxningsklubb - Unlock.csv\")\n",
        "\n",
        "# Create or update the _ack_status column\n",
        "df['_ack_status'] = df['_ack_timestamp'].apply(lambda x: 0 if pd.notna(x) and str(x).strip() != '' else None)\n",
        "\n",
        "# Save the updated file\n",
        "df.to_csv(\"Enhets data - Varbergs boxningsklubb - Unlock.csv\", index=False)\n",
        "\n",
        "print(\"✅ Updated file saved as '\")"
      ]
    },
    {
      "cell_type": "code",
      "execution_count": 184,
      "id": "e7661fe8",
      "metadata": {},
      "outputs": [
        {
          "name": "stdout",
          "output_type": "stream",
          "text": [
            "Varbergs: _ack_status=0 → 268, NaN → 154, total → 422\n",
            "Grind: _ack_status=0 → 0, NaN → 224, total → 1642\n",
            "SMRTEC: _ack_status=0 → 765, NaN → 40, total → 805\n"
          ]
        }
      ],
      "source": [
        "\n",
        "import pandas as pd\n",
        "import matplotlib.pyplot as plt\n",
        "\n",
        "# File paths\n",
        "files = {\n",
        "    \"Varbergs\": \"Enhets data - Varbergs boxningsklubb - Unlock.csv\",\n",
        "    \"Grind\": \"Enhets data - Katarinasstädtjänst Enhet Grind - Unlock_corr.csv\",\n",
        "    \"SMRTEC\": \"Enhets data - SMRTEC huvudEntre - Unlock_corr.csv\",\n",
        "}\n",
        "\n",
        "# Dictionary to store counts\n",
        "status_counts = {}\n",
        "\n",
        "for name, path in files.items():\n",
        "    df = pd.read_csv(path)\n",
        "    total = len(df)\n",
        "    count_0 = (df['_ack_status'] == 0).sum()\n",
        "    count_nan = df['_ack_status'].isna().sum()\n",
        "    \n",
        "    status_counts[name] = {\n",
        "        '_ack_status=0': count_0,\n",
        "        '_ack_status=NaN': count_nan,\n",
        "        'total': total\n",
        "    }\n",
        "for name, path in files.items():\n",
        "    df = pd.read_csv(path)\n",
        "    total = len(df)\n",
        "    count_0 = (df['_ack_status'] == 0).sum()\n",
        "    count_nan = df['_ack_status'].isna().sum()\n",
        "\n",
        "    status_counts[name] = {\n",
        "        '_ack_status=0': count_0,\n",
        "        '_ack_status=NaN': count_nan,\n",
        "        'total': total\n",
        "    }\n",
        "\n",
        "    print(f\"{name}: _ack_status=0 → {count_0}, NaN → {count_nan}, total → {total}\")\n",
        "\n",
        "\n",
        "\n",
        "\n",
        "\n"
      ]
    },
    {
      "cell_type": "code",
      "execution_count": 185,
      "id": "4f7c5117",
      "metadata": {},
      "outputs": [
        {
          "name": "stdout",
          "output_type": "stream",
          "text": [
            "['  _id ', ' _uuid ', '_timestamp ', 'rpc   ', '_ack_timestamp', '_ack_status']\n",
            "<class 'pandas.core.frame.DataFrame'>\n",
            "RangeIndex: 422 entries, 0 to 421\n",
            "Data columns (total 6 columns):\n",
            " #   Column          Non-Null Count  Dtype  \n",
            "---  ------          --------------  -----  \n",
            " 0     _id           422 non-null    int64  \n",
            " 1    _uuid          422 non-null    int64  \n",
            " 2   _timestamp      422 non-null    object \n",
            " 3   rpc             422 non-null    object \n",
            " 4   _ack_timestamp  268 non-null    object \n",
            " 5   _ack_status     268 non-null    float64\n",
            "dtypes: float64(1), int64(2), object(3)\n",
            "memory usage: 19.9+ KB\n"
          ]
        }
      ],
      "source": [
        "file_path = \"Enhets data - Varbergs boxningsklubb - Unlock.csv\"  \n",
        "df = pd.read_csv(file_path)\n",
        "print(df.columns.tolist())\n",
        "df.shape\n",
        "df.info()\n",
        "\n",
        "\n"
      ]
    },
    {
      "cell_type": "code",
      "execution_count": 193,
      "id": "2f23ef94",
      "metadata": {},
      "outputs": [
        {
          "name": "stdout",
          "output_type": "stream",
          "text": [
            "['  _id ', ' _uuid ', '_timestamp', 'rpc   ', '_ack_timestamp', '_ack_status']\n",
            "<class 'pandas.core.frame.DataFrame'>\n",
            "RangeIndex: 1642 entries, 0 to 1641\n",
            "Data columns (total 6 columns):\n",
            " #   Column          Non-Null Count  Dtype \n",
            "---  ------          --------------  ----- \n",
            " 0     _id           1642 non-null   int64 \n",
            " 1    _uuid          1642 non-null   int64 \n",
            " 2   _timestamp      1642 non-null   object\n",
            " 3   rpc             1642 non-null   object\n",
            " 4   _ack_timestamp  1418 non-null   object\n",
            " 5   _ack_status     1418 non-null   object\n",
            "dtypes: int64(2), object(4)\n",
            "memory usage: 77.1+ KB\n"
          ]
        }
      ],
      "source": [
        "file_path = \"Enhets data - Katarinasstädtjänst Enhet Grind - Unlock_corr.csv\"  \n",
        "df = pd.read_csv(file_path)\n",
        "print(df.columns.tolist())\n",
        "df.shape\n",
        "df.info()\n"
      ]
    },
    {
      "cell_type": "code",
      "execution_count": 187,
      "id": "ffa36b11",
      "metadata": {},
      "outputs": [
        {
          "name": "stdout",
          "output_type": "stream",
          "text": [
            "['  _id ', ' _uuid ', '_timestamp', 'rpc   ', '_ack_timestamp', '_ack_status']\n",
            "<class 'pandas.core.frame.DataFrame'>\n",
            "RangeIndex: 805 entries, 0 to 804\n",
            "Data columns (total 6 columns):\n",
            " #   Column          Non-Null Count  Dtype  \n",
            "---  ------          --------------  -----  \n",
            " 0     _id           805 non-null    int64  \n",
            " 1    _uuid          805 non-null    int64  \n",
            " 2   _timestamp      805 non-null    object \n",
            " 3   rpc             805 non-null    object \n",
            " 4   _ack_timestamp  765 non-null    object \n",
            " 5   _ack_status     765 non-null    float64\n",
            "dtypes: float64(1), int64(2), object(3)\n",
            "memory usage: 37.9+ KB\n"
          ]
        }
      ],
      "source": [
        "file_path = \"Enhets data - SMRTEC huvudEntre - Unlock_corr.csv\"  \n",
        "df = pd.read_csv(file_path)\n",
        "print(df.columns.tolist())\n",
        "df.shape\n",
        "df.info()\n"
      ]
    },
    {
      "cell_type": "code",
      "execution_count": 188,
      "id": "d603aecd",
      "metadata": {},
      "outputs": [
        {
          "name": "stdout",
          "output_type": "stream",
          "text": [
            "float64\n",
            "0    0.0\n",
            "1    0.0\n",
            "2    0.0\n",
            "3    0.0\n",
            "4    0.0\n",
            "Name: _ack_status, dtype: float64\n"
          ]
        }
      ],
      "source": [
        "\n",
        "df = pd.read_csv(\"Enhets data - Katarinasstädtjänst Enhet Grind - Unlock_corr.csv\")\n",
        "\n",
        "# Convert _ack_status from object → float64\n",
        "df['_ack_status'] = pd.to_numeric(df['_ack_status'], errors='coerce')\n",
        "\n",
        "# Verify the change\n",
        "print(df['_ack_status'].dtype)\n",
        "print(df['_ack_status'].head())"
      ]
    },
    {
      "cell_type": "code",
      "execution_count": 190,
      "id": "3cf2938b",
      "metadata": {},
      "outputs": [
        {
          "name": "stderr",
          "output_type": "stream",
          "text": [
            "C:\\Users\\yulia\\AppData\\Local\\Temp\\ipykernel_23536\\2605996545.py:37: MatplotlibDeprecationWarning: An artist whose label starts with an underscore was passed to legend(); such artists will no longer be ignored in the future.  To suppress this warning, explicitly filter out such artists, e.g. with `[art for art in artists if not art.get_label().startswith('_')]`.\n",
            "  plt.legend([\"_ack_status = 0\", \"_ack_status = NaN\"], title=\"Status\")\n"
          ]
        },
        {
          "data": {
            "image/png": "[encoded data removed]",
            "text/plain": [
              "<Figure size 1000x600 with 1 Axes>"
            ]
          },
          "metadata": {},
          "output_type": "display_data"
        }
      ],
      "source": [
        "import pandas as pd\n",
        "import matplotlib.pyplot as plt\n",
        "\n",
        "# File paths\n",
        "files = {\"Grind\": \"Enhets data - Katarinasstädtjänst Enhet Grind - Unlock_corr.csv\",\n",
        "    \"Varbergs\": \"Enhets data - Varbergs boxningsklubb - Unlock.csv\",\n",
        "    \"SMRTEC\": \"Enhets data - SMRTEC huvudEntre - Unlock_corr.csv\"\n",
        "}\n",
        "\n",
        "# Dictionary to store counts\n",
        "status_counts = {}\n",
        "\n",
        "for name, path in files.items():\n",
        "    df = pd.read_csv(path)\n",
        "    total = len(df)\n",
        "    count_0 = (df['_ack_status'] == 0).sum()\n",
        "    count_nan = df['_ack_status'].isna().sum()\n",
        "    \n",
        "    status_counts[name] = {\n",
        "        '_ack_status=0': count_0,\n",
        "        '_ack_status=NaN': count_nan,\n",
        "        'total': total\n",
        "    }\n",
        "\n",
        "# Convert to DataFrame for plotting\n",
        "counts_df = pd.DataFrame(status_counts).T[[' _ack_status=0','_ack_status=NaN'] if ' _ack_status=0' in status_counts[list(status_counts.keys())[0]] else ['_ack_status=0','_ack_status=NaN']]\n",
        "\n",
        "# Compute percentages\n",
        "percentages_df = counts_df.div(counts_df.sum(axis=1), axis=0) * 100\n",
        "\n",
        "# Plot\n",
        "ax = counts_df.plot(kind='bar', figsize=(10,6))\n",
        "plt.title(\"Counts and Percentages of _ack_status = 0 and NaN\")\n",
        "plt.xlabel(\"File / Source\")\n",
        "plt.ylabel(\"Count\")\n",
        "plt.xticks(rotation=15)\n",
        "plt.legend([\"_ack_status = 0\", \"_ack_status = NaN\"], title=\"Status\")\n",
        "plt.grid(axis='y', linestyle='--', alpha=0.7)\n",
        "plt.tight_layout()\n",
        "\n",
        "# Add percentage labels on top of bars\n",
        "for i, (index, row) in enumerate(percentages_df.iterrows()):\n",
        "    for j, val in enumerate(row):\n",
        "        count = counts_df.iloc[i, j]\n",
        "        plt.text(i + (j - 0.5) * 0.3, count + max(counts_df.max()) * 0.01,\n",
        "                 f\"{val:.1f}%\", ha='center', va='bottom', fontsize=9)\n",
        "\n",
        "plt.show()\n"
      ]
    }
  ],
  "metadata": {
    "kernelspec": {
      "display_name": "Python 3",
      "language": "python",
      "name": "python3"
    },
    "language_info": {
      "codemirror_mode": {
        "name": "ipython",
        "version": 3
      },
      "file_extension": ".py",
      "mimetype": "text/x-python",
      "name": "python",
      "nbconvert_exporter": "python",
      "pygments_lexer": "ipython3",
      "version": "3.12.6"
    }
  },
  "nbformat": 4,
  "nbformat_minor": 5
}
