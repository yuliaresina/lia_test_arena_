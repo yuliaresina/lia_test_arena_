{
 "cells": [
  {
   "cell_type": "code",
   "execution_count": 1,
   "id": "0ded5335",
   "metadata": {},
   "outputs": [
    {
     "data": {
      "text/plain": [
       "(44, 6)"
      ]
     },
     "execution_count": 1,
     "metadata": {},
     "output_type": "execute_result"
    }
   ],
   "source": [
    "import pandas as pd \n",
    "df = pd.read_csv (\"test_data1_clean.csv\")\n",
    "df.head()\n",
    "df.shape       \n",
    "\n"
   ]
  },
  {
   "cell_type": "code",
   "execution_count": 2,
   "id": "bdebe0b9",
   "metadata": {},
   "outputs": [
    {
     "data": {
      "text/plain": [
       "(44, 9)"
      ]
     },
     "execution_count": 2,
     "metadata": {},
     "output_type": "execute_result"
    }
   ],
   "source": [
    "df = pd.read_csv (\"test_data2_clean.csv\")\n",
    "df.head()\n",
    "df.shape"
   ]
  },
  {
   "cell_type": "code",
   "execution_count": 3,
   "id": "87a31a5d",
   "metadata": {},
   "outputs": [
    {
     "data": {
      "text/plain": [
       "(88, 13)"
      ]
     },
     "execution_count": 3,
     "metadata": {},
     "output_type": "execute_result"
    }
   ],
   "source": [
    "df = pd.read_csv (\"combined_clean.csv\")\n",
    "df.head()\n",
    "df.shape"
   ]
  },
  {
   "cell_type": "code",
   "execution_count": 8,
   "id": "ea90c4ed",
   "metadata": {},
   "outputs": [],
   "source": [
    "import pandas as pd\n",
    "\n",
    "# Load Excel\n",
    "df = pd.read_excel(\"Enhets data.xlsx\")\n",
    "\n",
    "# Combine date + time into a single datetime column\n",
    "df['timestamp'] = pd.to_datetime(\n",
    "    df['date'].astype(str) + \" \" + df['time'].astype(str),\n",
    "    errors='coerce'\n",
    ")\n",
    "\n",
    "# Keep only the combined column\n",
    "df = df[['timestamp']]\n",
    "\n",
    "# Save to CSV\n",
    "df.to_csv(\"enhets_datetime.csv\", index=False)\n",
    "\n"
   ]
  },
  {
   "cell_type": "code",
   "execution_count": 9,
   "id": "1598d441",
   "metadata": {},
   "outputs": [
    {
     "data": {
      "text/plain": [
       "(1046, 1)"
      ]
     },
     "execution_count": 9,
     "metadata": {},
     "output_type": "execute_result"
    }
   ],
   "source": [
    "df = pd.read_csv (\"enhets_datetime.csv\")\n",
    "df.head()\n",
    "df.shape"
   ]
  },
  {
   "cell_type": "code",
<<<<<<< HEAD
   "execution_count": 9,
=======
   "execution_count": 15,
>>>>>>> 07e1c751a030e789eaa9a4a5687364c69fdbac21
   "id": "8f5c4b91",
   "metadata": {},
   "outputs": [
    {
     "name": "stdout",
     "output_type": "stream",
     "text": [
      "Saved as: Enhets data - Katarinasstädtjänst Enhet Grind - RSRP_corr.csv\n",
      "Saved as: Enhets data - SMRTEC huvudEntre - RSRP.csv_corr.csv\n",
      "Saved as: Enhets data - Varbergs boxningsklubb - RSRP.csv_corr.csv\n"
     ]
    }
   ],
   "source": [
    "import pandas as pd\n",
    "\n",
    "# Load your CSV\n",
    "file_path = \"Enhets data - Katarinasstädtjänst Enhet Grind - RSRP.csv\"\n",
    "df = pd.read_csv(file_path)\n",
    "\n",
    "# Replace 'date' column with merged datetime\n",
    "df['date'] = pd.to_datetime(\n",
    "    df['date'].astype(str) + \" \" + df['time'].astype(str),\n",
    "    errors='coerce'\n",
    ")\n",
    "\n",
    "# Drop the separate 'time' column\n",
    "df = df.drop(columns=['time'])\n",
    "\n",
    "# Optionally rename 'date' → 'datetime'\n",
    "df = df.rename(columns={'date': 'timestamp'})\n",
    "\n",
    "# Save to new CSV\n",
    "output_file = \"Enhets data - Katarinasstädtjänst Enhet Grind - RSRP_corr.csv\"\n",
    "df.to_csv(output_file, index=False)\n",
    "\n",
    "print(f\"Saved as: {output_file}\")\n",
    "\n",
    "# Load your CSV\n",
    "file_path = \"Enhets data - SMRTEC huvudEntre - RSRP.csv\"\n",
    "df = pd.read_csv(file_path)\n",
    "\n",
    "# Replace 'date' column with merged datetime\n",
    "df['date'] = pd.to_datetime(\n",
    "    df['date'].astype(str) + \" \" + df['time'].astype(str),\n",
    "    errors='coerce'\n",
    ")\n",
    "\n",
    "# Drop the separate 'time' column\n",
    "df = df.drop(columns=['time'])\n",
    "\n",
    "# Optionally rename 'date' → 'datetime'\n",
    "df = df.rename(columns={'date': 'timestamp'})\n",
    "\n",
    "# Save to new CSV\n",
    "output_file = \"Enhets data - SMRTEC huvudEntre - RSRP.csv_corr.csv\"\n",
    "df.to_csv(output_file, index=False)\n",
    "\n",
    "print(f\"Saved as: {output_file}\")\n",
    "\n",
    "# Load your CSV\n",
    "file_path = \"Enhets data - Varbergs boxningsklubb - RSRP.csv\"\n",
    "df = pd.read_csv(file_path)\n",
    "\n",
    "# Replace 'date' column with merged datetime\n",
    "df['date'] = pd.to_datetime(\n",
    "    df['date'].astype(str) + \" \" + df['time'].astype(str),\n",
    "    errors='coerce'\n",
    ")\n",
    "\n",
    "# Drop the separate 'time' column\n",
    "df = df.drop(columns=['time'])\n",
    "\n",
    "# Optionally rename 'date' → 'datetime'\n",
    "df = df.rename(columns={'date': 'timestamp'})\n",
    "\n",
    "# Save to new CSV\n",
    "output_file = \"Enhets data - Varbergs boxningsklubb - RSRP.csv_corr.csv\"\n",
    "df.to_csv(output_file, index=False)\n",
    "\n",
    "print(f\"Saved as: {output_file}\")"
   ]
  },
  {
   "cell_type": "code",
   "execution_count": 36,
   "id": "23fdf4e6",
   "metadata": {},
   "outputs": [
    {
     "name": "stdout",
     "output_type": "stream",
     "text": [
      "Saved as: Enhets data - Katarinasstädtjänst Enhet Grind - Unlock_corr.csv\n",
      "Saved as: Enhets data - SMRTEC huvudEntre - Unlock_corr.csv\n"
     ]
    }
   ],
   "source": [
    "import pandas as pd\n",
    "\n",
    "# Load your CSV\n",
    "file_path = \"Enhets data - Katarinasstädtjänst Enhet Grind - Unlock.csv\"\n",
    "df = pd.read_csv(file_path)\n",
    "\n",
    "# Merge date1 + time1 into datetime1\n",
    "df['_timestamp'] = pd.to_datetime(\n",
    "    df['date1'].astype(str) + \" \" + df['time1'].astype(str),\n",
    "    errors='coerce'\n",
    ")\n",
    "\n",
    "# Merge date2 + time2 into datetime2\n",
    "df['_ack_timestamp'] = pd.to_datetime(\n",
    "    df['date2'].astype(str) + \" \" + df['time2'].astype(str),\n",
    "    errors='coerce'\n",
    ")\n",
    "\n",
    "# Drop original date/time columns\n",
    "df = df.drop(columns=['date1', 'time1', 'date2', 'time2'])\n",
    "\n",
    "# Reorder columns\n",
    "df = df[['  _id ', ' _uuid ', '_timestamp', 'rpc   ', '_ack_timestamp', '_ack_status']]\n",
    "\n",
    "# Save to new CSV\n",
    "output_file = \"Enhets data - Katarinasstädtjänst Enhet Grind - Unlock_corr.csv\"\n",
    "df.to_csv(output_file, index=False)\n",
    "\n",
    "print(f\"Saved as: {output_file}\")\n",
    "\n",
    "import pandas as pd\n",
    "\n",
    "# Load your CSV\n",
    "file_path = \"Enhets data - SMRTEC huvudEntre - Unlock.csv\"\n",
    "df = pd.read_csv(file_path)\n",
    "\n",
    "# Merge date1 + time1 into datetime1\n",
    "df['_timestamp'] = pd.to_datetime(\n",
    "    df['date1'].astype(str) + \" \" + df['time1'].astype(str),\n",
    "    errors='coerce'\n",
    ")\n",
    "\n",
    "# Merge date2 + time2 into datetime2\n",
    "df['_ack_timestamp'] = pd.to_datetime(\n",
    "    df['date2'].astype(str) + \" \" + df['time2'].astype(str),\n",
    "    errors='coerce'\n",
    ")\n",
    "\n",
    "# Drop original date/time columns\n",
    "df = df.drop(columns=['date1', 'time1', 'date2', 'time2'])\n",
    "\n",
    "# Reorder columns\n",
    "df = df[['  _id ', ' _uuid ', '_timestamp', 'rpc   ', '_ack_timestamp', '_ack_status']]\n",
    "\n",
    "# Save to new CSV\n",
    "output_file = \"Enhets data - SMRTEC huvudEntre - Unlock_corr.csv\"\n",
    "df.to_csv(output_file, index=False)\n",
    "\n",
    "print(f\"Saved as: {output_file}\")"
   ]
  },
  {
   "cell_type": "code",
   "execution_count": 24,
   "id": "89b18338",
   "metadata": {},
   "outputs": [
    {
     "name": "stdout",
     "output_type": "stream",
     "text": [
      "['  _id ', ' _uuid ', 'date1', 'time1', 'rpc   ', 'date2', 'time2', '_ack_status']\n"
     ]
    }
   ],
   "source": [
    "file_path = \"Enhets data - Katarinasstädtjänst Enhet Grind - Unlock.csv\"\n",
    "df = pd.read_csv(file_path)\n",
    "\n",
    "print(df.columns.tolist())"
   ]
  },
  {
   "cell_type": "code",
   "execution_count": 40,
   "id": "e8e661eb",
   "metadata": {},
   "outputs": [],
   "source": [
    "import pandas as pd\n",
    "\n",
    "# Load both CSVs\n",
    "rsrp = pd.read_csv(\"Enhets data - Katarinasstädtjänst Enhet Grind - RSRP_corr.csv\")\n",
    "unlock = pd.read_csv(\"Enhets data - Katarinasstädtjänst Enhet Grind - Unlock_corr.csv\")\n",
    "\n",
    "# Combine them vertically\n",
    "combined = pd.concat([rsrp, unlock], ignore_index=True)\n",
    "\n",
    "# Save result\n",
    "combined.to_csv(\"Enhets data - Katarinasstädtjänst Enhet Grind _combined.csv\", index=False)\n",
    "df = pd.read_csv (\"Enhets data - Katarinasstädtjänst Enhet Grind _combined.csv\")\n",
    "df.head()\n",
    "df.shape    \n",
    "\n",
    "# Load both CSVs\n",
    "rsrp = pd.read_csv(\"Enhets data - SMRTEC huvudEntre - RSRP.csv_corr.csv\")\n",
    "unlock = pd.read_csv(\"Enhets data - SMRTEC huvudEntre - Unlock_corr.csv\")\n",
    "\n",
    "# Combine them vertically\n",
    "combined = pd.concat([rsrp, unlock], ignore_index=True)\n",
    "\n",
    "# Save result\n",
    "combined.to_csv(\"Enhets data - SMRTEC huvudEntre_combined.csv\", index=False)\n",
    "   \n",
    "# Load both CSVs\n",
    "rsrp = pd.read_csv(\"Enhets data - Varbergs boxningsklubb - RSRP.csv_corr.csv\")\n",
    "unlock = pd.read_csv(\"Enhets data - Varbergs boxningsklubb - Unlock.csv\")\n",
    "\n",
    "# Combine them vertically\n",
    "combined = pd.concat([rsrp, unlock], ignore_index=True)\n",
    "\n",
    "# Save result\n",
    "combined.to_csv(\"Enhets data - Varbergs boxningsklubb_combined.csv\", index=False)\n",
    "   \n",
    "   "
   ]
  }
 ],
 "metadata": {
  "kernelspec": {
   "display_name": "Python 3",
   "language": "python",
   "name": "python3"
  },
  "language_info": {
   "codemirror_mode": {
    "name": "ipython",
    "version": 3
   },
   "file_extension": ".py",
   "mimetype": "text/x-python",
   "name": "python",
   "nbconvert_exporter": "python",
   "pygments_lexer": "ipython3",
   "version": "3.12.6"
  }
 },
 "nbformat": 4,
 "nbformat_minor": 5
}
