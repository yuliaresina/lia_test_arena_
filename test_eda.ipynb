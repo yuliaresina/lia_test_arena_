{
 "cells": [
  {
<<<<<<< HEAD
   "cell_type": "markdown",
   "id": "0e6ef348",
   "metadata": {},
=======
   "cell_type": "code",
   "execution_count": 1,
   "id": "0ded5335",
   "metadata": {},
   "outputs": [
    {
     "data": {
      "text/plain": [
       "(44, 6)"
      ]
     },
     "execution_count": 1,
     "metadata": {},
     "output_type": "execute_result"
    }
   ],
>>>>>>> 395f011da26aa99609f323c9ef4bbb1a31b4e9e3
   "source": [
    "# **Priliminary data analysis of Arena HUBs**\n",
    "\n",
    "## Data are the logs from a remote Arena system, access control system that unlocks doors.\n",
    "\n",
    "Initial files contain the following records:\n",
    "\n",
    "*_id –  record ID\n",
    "\n",
    "_uuid – device identifier, from hardware ( IMEI-like value).\n",
    "\n",
    "_timestamp – event time (UTC)\n",
    "\n",
    "rpc – the type of action/event (always “unlock” in the file).\n",
    "\n",
    "_ack_timestamp – acknowledgement time (when the system confirmed the event).\n",
    "\n",
    "_ack_status – acknowledgement result (0 means success, empty means not acknowledged).*\n",
    "\n",
    "Initial second dataset contain diagnostic telemetry and metadata from a Nordic nRF91 cellular IoT device (LTE-M/NB-IoT).\n",
    "It’s recording resets, uptime, firmware versions, and network signal strength.\n",
    "\n",
    "*_id – unique row identifier \n",
    "\n",
    "_uuid – device identifier \n",
    "\n",
    "timestamp – when the record was captured\n",
    "\n",
    "just_booted – t means the device had just restarted when the log was recorded.\n",
    "\n",
    "reset_reason – numeric code for why the device reset (e.g., 0, 2, 16 … probably mapped to watchdog, power cycle, etc.).\n",
    "\n",
    "uptime – how many seconds the device had been running before the log.\n",
    "\n",
    "fw_version – firmware version running on the device.\n",
    "\n",
    "modem_fw_version – modem firmware version (mfw_nrf91x1_2.0.1).\n",
    "\n",
    "rsrp – signal strength (Reference Signal Received Power, typical for LTE/5G modules).\n",
    "*\n",
    "\n",
    "\n"
   ]
  },
  {
   "cell_type": "code",
<<<<<<< HEAD
=======
   "execution_count": 2,
   "id": "bdebe0b9",
   "metadata": {},
   "outputs": [
    {
     "data": {
      "text/plain": [
       "(44, 9)"
      ]
     },
     "execution_count": 2,
     "metadata": {},
     "output_type": "execute_result"
    }
   ],
   "source": [
    "df = pd.read_csv (\"test_data2_clean.csv\")\n",
    "df.head()\n",
    "df.shape"
   ]
  },
  {
   "cell_type": "code",
   "execution_count": 3,
   "id": "87a31a5d",
   "metadata": {},
   "outputs": [
    {
     "data": {
      "text/plain": [
       "(88, 13)"
      ]
     },
     "execution_count": 3,
     "metadata": {},
     "output_type": "execute_result"
    }
   ],
   "source": [
    "df = pd.read_csv (\"combined_clean.csv\")\n",
    "df.head()\n",
    "df.shape"
   ]
  },
  {
   "cell_type": "code",
>>>>>>> 395f011da26aa99609f323c9ef4bbb1a31b4e9e3
   "execution_count": 8,
   "id": "ea90c4ed",
   "metadata": {},
   "outputs": [],
   "source": [
    "import pandas as pd\n",
    "\n",
    "# Load Excel\n",
    "df = pd.read_excel(\"Enhets data.xlsx\")\n",
    "\n",
    "# Combine date + time into a single datetime column\n",
    "df['timestamp'] = pd.to_datetime(\n",
    "    df['date'].astype(str) + \" \" + df['time'].astype(str),\n",
    "    errors='coerce'\n",
    ")\n",
    "\n",
    "# Keep only the combined column\n",
    "df = df[['timestamp']]\n",
    "\n",
    "# Save to CSV\n",
    "df.to_csv(\"enhets_datetime.csv\", index=False)\n",
    "\n"
   ]
  },
  {
   "cell_type": "code",
   "execution_count": 9,
   "id": "1598d441",
   "metadata": {},
   "outputs": [
    {
     "data": {
      "text/plain": [
       "(1046, 1)"
      ]
     },
     "execution_count": 9,
     "metadata": {},
     "output_type": "execute_result"
    }
   ],
   "source": [
    "df = pd.read_csv (\"enhets_datetime.csv\")\n",
    "df.head()\n",
    "df.shape"
   ]
  },
  {
   "cell_type": "code",
<<<<<<< HEAD
   "execution_count": 9,
=======
   "execution_count": 15,
>>>>>>> 07e1c751a030e789eaa9a4a5687364c69fdbac21
   "id": "8f5c4b91",
   "metadata": {},
   "outputs": [
    {
     "name": "stdout",
     "output_type": "stream",
     "text": [
      "Saved as: Enhets data - Katarinasstädtjänst Enhet Grind - RSRP_corr.csv\n",
      "Saved as: Enhets data - SMRTEC huvudEntre - RSRP.csv_corr.csv\n",
      "Saved as: Enhets data - Varbergs boxningsklubb - RSRP.csv_corr.csv\n"
     ]
    }
   ],
   "source": [
    "import pandas as pd\n",
    "\n",
    "# Load your CSV\n",
    "file_path = \"Enhets data - Katarinasstädtjänst Enhet Grind - RSRP.csv\"\n",
    "df = pd.read_csv(file_path)\n",
    "\n",
    "# Replace 'date' column with merged datetime\n",
    "df['date'] = pd.to_datetime(\n",
    "    df['date'].astype(str) + \" \" + df['time'].astype(str),\n",
    "    errors='coerce'\n",
    ")\n",
    "\n",
    "# Drop the separate 'time' column\n",
    "df = df.drop(columns=['time'])\n",
    "\n",
    "# Optionally rename 'date' → 'datetime'\n",
    "df = df.rename(columns={'date': 'timestamp'})\n",
    "\n",
    "# Save to new CSV\n",
    "output_file = \"Enhets data - Katarinasstädtjänst Enhet Grind - RSRP_corr.csv\"\n",
    "df.to_csv(output_file, index=False)\n",
    "\n",
    "print(f\"Saved as: {output_file}\")\n",
    "\n",
    "# Load your CSV\n",
    "file_path = \"Enhets data - SMRTEC huvudEntre - RSRP.csv\"\n",
    "df = pd.read_csv(file_path)\n",
    "\n",
    "# Replace 'date' column with merged datetime\n",
    "df['date'] = pd.to_datetime(\n",
    "    df['date'].astype(str) + \" \" + df['time'].astype(str),\n",
    "    errors='coerce'\n",
    ")\n",
    "\n",
    "# Drop the separate 'time' column\n",
    "df = df.drop(columns=['time'])\n",
    "\n",
    "# Optionally rename 'date' → 'datetime'\n",
    "df = df.rename(columns={'date': 'timestamp'})\n",
    "\n",
    "# Save to new CSV\n",
    "output_file = \"Enhets data - SMRTEC huvudEntre - RSRP.csv_corr.csv\"\n",
    "df.to_csv(output_file, index=False)\n",
    "\n",
    "print(f\"Saved as: {output_file}\")\n",
    "\n",
    "# Load your CSV\n",
    "file_path = \"Enhets data - Varbergs boxningsklubb - RSRP.csv\"\n",
    "df = pd.read_csv(file_path)\n",
    "\n",
    "# Replace 'date' column with merged datetime\n",
    "df['date'] = pd.to_datetime(\n",
    "    df['date'].astype(str) + \" \" + df['time'].astype(str),\n",
    "    errors='coerce'\n",
    ")\n",
    "\n",
    "# Drop the separate 'time' column\n",
    "df = df.drop(columns=['time'])\n",
    "\n",
    "# Optionally rename 'date' → 'datetime'\n",
    "df = df.rename(columns={'date': 'timestamp'})\n",
    "\n",
    "# Save to new CSV\n",
    "output_file = \"Enhets data - Varbergs boxningsklubb - RSRP.csv_corr.csv\"\n",
    "df.to_csv(output_file, index=False)\n",
    "\n",
    "print(f\"Saved as: {output_file}\")"
   ]
  },
  {
   "cell_type": "code",
   "execution_count": 36,
   "id": "23fdf4e6",
   "metadata": {},
   "outputs": [
    {
     "name": "stdout",
     "output_type": "stream",
     "text": [
      "Saved as: Enhets data - Katarinasstädtjänst Enhet Grind - Unlock_corr.csv\n",
      "Saved as: Enhets data - SMRTEC huvudEntre - Unlock_corr.csv\n"
     ]
    }
   ],
   "source": [
    "import pandas as pd\n",
    "\n",
    "# Load your CSV\n",
    "file_path = \"Enhets data - Katarinasstädtjänst Enhet Grind - Unlock.csv\"\n",
    "df = pd.read_csv(file_path)\n",
    "\n",
    "# Merge date1 + time1 into datetime1\n",
    "df['_timestamp'] = pd.to_datetime(\n",
    "    df['date1'].astype(str) + \" \" + df['time1'].astype(str),\n",
    "    errors='coerce'\n",
    ")\n",
    "\n",
    "# Merge date2 + time2 into datetime2\n",
    "df['_ack_timestamp'] = pd.to_datetime(\n",
    "    df['date2'].astype(str) + \" \" + df['time2'].astype(str),\n",
    "    errors='coerce'\n",
    ")\n",
    "\n",
    "# Drop original date/time columns\n",
    "df = df.drop(columns=['date1', 'time1', 'date2', 'time2'])\n",
    "\n",
    "# Reorder columns\n",
    "df = df[['  _id ', ' _uuid ', '_timestamp', 'rpc   ', '_ack_timestamp', '_ack_status']]\n",
    "\n",
    "# Save to new CSV\n",
    "output_file = \"Enhets data - Katarinasstädtjänst Enhet Grind - Unlock_corr.csv\"\n",
    "df.to_csv(output_file, index=False)\n",
    "\n",
    "print(f\"Saved as: {output_file}\")\n",
    "\n",
    "import pandas as pd\n",
    "\n",
    "# Load your CSV\n",
    "file_path = \"Enhets data - SMRTEC huvudEntre - Unlock.csv\"\n",
    "df = pd.read_csv(file_path)\n",
    "\n",
    "# Merge date1 + time1 into datetime1\n",
    "df['_timestamp'] = pd.to_datetime(\n",
    "    df['date1'].astype(str) + \" \" + df['time1'].astype(str),\n",
    "    errors='coerce'\n",
    ")\n",
    "\n",
    "# Merge date2 + time2 into datetime2\n",
    "df['_ack_timestamp'] = pd.to_datetime(\n",
    "    df['date2'].astype(str) + \" \" + df['time2'].astype(str),\n",
    "    errors='coerce'\n",
    ")\n",
    "\n",
    "# Drop original date/time columns\n",
    "df = df.drop(columns=['date1', 'time1', 'date2', 'time2'])\n",
    "\n",
    "# Reorder columns\n",
    "df = df[['  _id ', ' _uuid ', '_timestamp', 'rpc   ', '_ack_timestamp', '_ack_status']]\n",
    "\n",
    "# Save to new CSV\n",
    "output_file = \"Enhets data - SMRTEC huvudEntre - Unlock_corr.csv\"\n",
    "df.to_csv(output_file, index=False)\n",
    "\n",
    "print(f\"Saved as: {output_file}\")"
   ]
  },
  {
   "cell_type": "code",
   "execution_count": 24,
   "id": "89b18338",
   "metadata": {},
   "outputs": [
    {
     "name": "stdout",
     "output_type": "stream",
     "text": [
      "['  _id ', ' _uuid ', 'date1', 'time1', 'rpc   ', 'date2', 'time2', '_ack_status']\n"
     ]
    }
   ],
   "source": [
    "file_path = \"Enhets data - Katarinasstädtjänst Enhet Grind - Unlock.csv\"\n",
    "df = pd.read_csv(file_path)\n",
    "\n",
    "print(df.columns.tolist())"
   ]
  },
  {
   "cell_type": "code",
   "execution_count": 40,
   "id": "e8e661eb",
   "metadata": {},
   "outputs": [],
   "source": [
    "import pandas as pd\n",
    "\n",
    "# Load both CSVs\n",
    "rsrp = pd.read_csv(\"Enhets data - Katarinasstädtjänst Enhet Grind - RSRP_corr.csv\")\n",
    "unlock = pd.read_csv(\"Enhets data - Katarinasstädtjänst Enhet Grind - Unlock_corr.csv\")\n",
    "\n",
    "# Combine them vertically\n",
    "combined = pd.concat([rsrp, unlock], ignore_index=True)\n",
    "\n",
    "# Save result\n",
    "combined.to_csv(\"Enhets data - Katarinasstädtjänst Enhet Grind _combined.csv\", index=False)\n",
    "df = pd.read_csv (\"Enhets data - Katarinasstädtjänst Enhet Grind _combined.csv\")\n",
    "df.head()\n",
    "df.shape    \n",
    "\n",
    "# Load both CSVs\n",
    "rsrp = pd.read_csv(\"Enhets data - SMRTEC huvudEntre - RSRP.csv_corr.csv\")\n",
    "unlock = pd.read_csv(\"Enhets data - SMRTEC huvudEntre - Unlock_corr.csv\")\n",
    "\n",
    "# Combine them vertically\n",
    "combined = pd.concat([rsrp, unlock], ignore_index=True)\n",
    "\n",
    "# Save result\n",
    "combined.to_csv(\"Enhets data - SMRTEC huvudEntre_combined.csv\", index=False)\n",
    "   \n",
    "# Load both CSVs\n",
    "rsrp = pd.read_csv(\"Enhets data - Varbergs boxningsklubb - RSRP.csv_corr.csv\")\n",
    "unlock = pd.read_csv(\"Enhets data - Varbergs boxningsklubb - Unlock.csv\")\n",
    "\n",
    "# Combine them vertically\n",
    "combined = pd.concat([rsrp, unlock], ignore_index=True)\n",
    "\n",
    "# Save result\n",
    "combined.to_csv(\"Enhets data - Varbergs boxningsklubb_combined.csv\", index=False)\n",
    "   \n",
    "   "
   ]
  },
  {
   "cell_type": "code",
   "execution_count": 53,
   "id": "e5fb87f4",
   "metadata": {},
   "outputs": [
    {
     "name": "stdout",
     "output_type": "stream",
     "text": [
      "Processed: Enhets data - Katarinasstädtjänst Enhet Grind _combined.csv\n",
      "Processed: Enhets data - SMRTEC huvudEntre_combined.csv\n",
      "Processed: Enhets data - Varbergs boxningsklubb_combined.csv\n"
     ]
    }
   ],
   "source": [
    "import pandas as pd\n",
    "import os\n",
    "from glob import glob\n",
    "\n",
    "# Set input and output directories\n",
    "input_folder = 'C:/Users/yulia/Desktop/LIA1_project/3_enheterna_input_folder/'   # Replace with your folder path\n",
    "output_folder = 'C:/Users/yulia/Desktop/LIA1_project/3_enheterna_output_folder/'  # Folder to save updated CSVs\n",
    "\n",
    "# Create output directory if it doesn't exist\n",
    "os.makedirs(output_folder, exist_ok=True)\n",
    "\n",
    "# Get all CSV files in the input folder\n",
    "csv_files = glob(os.path.join(input_folder, '*.csv'))\n",
    "\n",
    "# Process each file\n",
    "for file_path in csv_files:\n",
    "    try:\n",
    "        # Read CSV\n",
    "        df = pd.read_csv(file_path)\n",
    "        df.columns = df.columns.str.strip()\n",
    "\n",
    "        # Convert to datetime\n",
    "        df['_timestamp'] = pd.to_datetime(df['_timestamp'], errors='coerce')\n",
    "        df['_ack_timestamp'] = pd.to_datetime(df['_ack_timestamp'], errors='coerce')\n",
    "\n",
    "        # Calculate response time\n",
    "        df['response_time_seconds'] = (\n",
    "            df['_ack_timestamp'] - df['_timestamp']\n",
    "        ).dt.total_seconds()\n",
    "\n",
    "        # Build output file path\n",
    "        filename = os.path.basename(file_path)\n",
    "        output_path = os.path.join(output_folder, filename)\n",
    "\n",
    "        # Save to output file\n",
    "        df.to_csv(output_path, index=False)\n",
    "\n",
    "        print(f\"Processed: {filename}\")\n",
    "\n",
    "    except Exception as e:\n",
    "        print(f\"Failed to process {file_path}: {e}\")\n"
   ]
  },
  {
   "cell_type": "code",
   "execution_count": 54,
   "id": "efb1e9f5",
   "metadata": {},
   "outputs": [
    {
     "name": "stdout",
     "output_type": "stream",
     "text": [
      "Response time added. Saved to: C:/Users/yulia/Desktop/LIA1_project/3_enheterna_input_folder/Enhets data - Katarinasstädtjänst Enhet Grind _combined_with_response_time.csv\n"
     ]
    }
   ],
   "source": [
    "import pandas as pd\n",
    "\n",
    "# Load the CSV file\n",
    "input_file = 'C:/Users/yulia/Desktop/LIA1_project/3_enheterna_input_folder/Enhets data - Katarinasstädtjänst Enhet Grind _combined.csv'  # Replace with your actual file path\n",
    "output_file = 'C:/Users/yulia/Desktop/LIA1_project/3_enheterna_input_folder/Enhets data - Katarinasstädtjänst Enhet Grind _combined_with_response_time.csv'  # Output file\n",
    "\n",
    "# Read the CSV\n",
    "df = pd.read_csv(input_file)\n",
    "\n",
    "# Clean column names\n",
    "df.columns = df.columns.str.strip()\n",
    "\n",
    "# Convert timestamp columns to datetime\n",
    "df['_timestamp'] = pd.to_datetime(df['_timestamp'], errors='coerce')\n",
    "df['_ack_timestamp'] = pd.to_datetime(df['_ack_timestamp'], errors='coerce')\n",
    "\n",
    "# Calculate response time in seconds\n",
    "df['response_time_seconds'] = (\n",
    "    df['_ack_timestamp'] - df['_timestamp']\n",
    ").dt.total_seconds()\n",
    "\n",
    "# Save to a new CSV file\n",
    "df.to_csv(output_file, index=False)\n",
    "\n",
    "print(f\"Response time added. Saved to: {output_file}\")\n"
   ]
  },
  {
   "cell_type": "code",
   "execution_count": 52,
   "id": "535bf99c",
   "metadata": {},
   "outputs": [
    {
     "name": "stdout",
     "output_type": "stream",
     "text": [
      "\n",
      "===== RESPONSE TIME SUMMARY =====\n",
      "count    765.000000\n",
      "mean       0.909926\n",
      "std        1.923358\n",
      "min        0.123102\n",
      "25%        0.323860\n",
      "50%        0.679821\n",
      "75%        0.957693\n",
      "max       44.291426\n",
      "Name: response_time_seconds, dtype: float64\n"
     ]
    },
    {
     "data": {
      "image/png": "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",
      "text/plain": [
       "<Figure size 1000x600 with 1 Axes>"
      ]
     },
     "metadata": {},
     "output_type": "display_data"
    },
    {
     "data": {
      "image/png": "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",
      "text/plain": [
       "<Figure size 800x400 with 1 Axes>"
      ]
     },
     "metadata": {},
     "output_type": "display_data"
    }
   ],
   "source": [
    "# ==============================================\n",
    "# 📈 Response Time Distribution Analysis\n",
    "# ==============================================\n",
    "\n",
    "import pandas as pd\n",
    "import matplotlib.pyplot as plt\n",
    "import seaborn as sns\n",
    "\n",
    "# --- Load Data ---\n",
    "file_path = \"C:/Users/yulia/Desktop/LIA1_project/3_enheterna_output_folder/Enhets data - SMRTEC huvudEntre_combined.csv\"  # adjust path if needed\n",
    "df = pd.read_csv(file_path)\n",
    "\n",
    "# --- Data Cleaning ---\n",
    "# Focus on RPC entries that have response times\n",
    "df_rpcs = df[df['response_time_seconds'].notna()].copy()\n",
    "\n",
    "# Convert response_time_seconds to numeric (if not already)\n",
    "df_rpcs['response_time_seconds'] = pd.to_numeric(df_rpcs['response_time_seconds'], errors='coerce')\n",
    "\n",
    "# Drop invalid or zero values\n",
    "df_rpcs = df_rpcs[df_rpcs['response_time_seconds'] > 0]\n",
    "\n",
    "# --- Summary Statistics ---\n",
    "summary = df_rpcs['response_time_seconds'].describe()\n",
    "print(\"\\n===== RESPONSE TIME SUMMARY =====\")\n",
    "print(summary)\n",
    "\n",
    "# --- Plot Distribution ---\n",
    "plt.figure(figsize=(10, 6))\n",
    "sns.histplot(df_rpcs['response_time_seconds'], bins=30, kde=True)\n",
    "plt.title('Response Time Distribution')\n",
    "plt.xlabel('Response Time (seconds)')\n",
    "plt.ylabel('Frequency')\n",
    "plt.grid(True, linestyle='--', alpha=0.6)\n",
    "plt.tight_layout()\n",
    "plt.show()\n",
    "\n",
    "# --- Optional: Boxplot for Outliers ---\n",
    "plt.figure(figsize=(8, 4))\n",
    "sns.boxplot(x=df_rpcs['response_time_seconds'])\n",
    "plt.title('Response Time Boxplot (Outlier Detection)')\n",
    "plt.xlabel('Response Time (seconds)')\n",
    "plt.grid(True, linestyle='--', alpha=0.6)\n",
    "plt.tight_layout()\n",
    "plt.show()\n"
   ]
  },
  {
   "cell_type": "code",
   "execution_count": 58,
   "id": "1b2df9b2",
   "metadata": {},
   "outputs": [
    {
     "name": "stdout",
     "output_type": "stream",
     "text": [
      "['_id', '_uuid', 'timestamp', 'just_booted', 'reset_reason', 'uptime', 'fw_version', 'modem_fw_version', 'rsrp', '_timestamp', 'rpc', '_ack_timestamp', '_ack_status', 'response_time_seconds']\n"
     ]
    },
    {
     "data": {
      "text/plain": [
       "(1466, 14)"
      ]
     },
     "execution_count": 58,
     "metadata": {},
     "output_type": "execute_result"
    }
   ],
   "source": [
    "file_path = \"C:/Users/yulia/Desktop/LIA1_project/3_enheterna_output_folder/Enhets data - SMRTEC huvudEntre_combined.csv\"  # adjust path if needed\n",
    "df = pd.read_csv(file_path)\n",
    "print(df.columns.tolist())\n",
    "df.shape"
   ]
  },
  {
   "cell_type": "code",
   "execution_count": 59,
   "id": "11382ce6",
   "metadata": {},
   "outputs": [
    {
     "name": "stdout",
     "output_type": "stream",
     "text": [
      "['_id', '_uuid', 'timestamp', 'just_booted', 'reset_reason', 'uptime', 'fw_version', 'modem_fw_version', 'rsrp', '_timestamp', 'rpc', '_ack_timestamp', '_ack_status', 'response_time_seconds']\n"
     ]
    },
    {
     "data": {
      "text/plain": [
       "(2687, 14)"
      ]
     },
     "execution_count": 59,
     "metadata": {},
     "output_type": "execute_result"
    }
   ],
   "source": [
    "file_path = \"C:/Users/yulia/Desktop/LIA1_project/3_enheterna_output_folder/Enhets data - Katarinasstädtjänst Enhet Grind _combined.csv\"  # adjust path if needed\n",
    "df = pd.read_csv(file_path)\n",
    "print(df.columns.tolist())\n",
    "df.shape "
   ]
  },
  {
   "cell_type": "code",
   "execution_count": null,
   "id": "5e525ed0",
   "metadata": {},
   "outputs": [],
   "source": []
  },
  {
   "cell_type": "code",
   "execution_count": 60,
   "id": "d2f16026",
   "metadata": {},
   "outputs": [
    {
     "name": "stdout",
     "output_type": "stream",
     "text": [
      "['_id', '_uuid', 'timestamp', 'just_booted', 'reset_reason', 'uptime', 'fw_version', 'modem_fw_version', 'rsrp', '_timestamp', 'rpc', '_ack_timestamp', '_ack_status', 'response_time_seconds']\n"
     ]
    },
    {
     "data": {
      "text/plain": [
       "(1466, 14)"
      ]
     },
     "execution_count": 60,
     "metadata": {},
     "output_type": "execute_result"
    }
   ],
   "source": [
    "file_path = \"C:/Users/yulia/Desktop/LIA1_project/3_enheterna_output_folder/Enhets data - Varbergs boxningsklubb_combined.csv\"  # adjust path if needed\n",
    "df = pd.read_csv(file_path)\n",
    "print(df.columns.tolist())\n",
    "df.shape\n"
   ]
  }
 ],
 "metadata": {
  "kernelspec": {
   "display_name": "Python 3",
   "language": "python",
   "name": "python3"
  },
  "language_info": {
   "codemirror_mode": {
    "name": "ipython",
    "version": 3
   },
   "file_extension": ".py",
   "mimetype": "text/x-python",
   "name": "python",
   "nbconvert_exporter": "python",
   "pygments_lexer": "ipython3",
   "version": "3.12.6"
  }
 },
 "nbformat": 4,
 "nbformat_minor": 5
}
