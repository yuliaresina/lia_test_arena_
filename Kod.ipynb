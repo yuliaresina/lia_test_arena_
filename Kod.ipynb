{
 "cells": [
  {
   "cell_type": "code",
   "execution_count": 3,
   "id": "9e14a0ee",
   "metadata": {},
   "outputs": [
    {
     "data": {
      "text/plain": [
       "(44, 6)"
      ]
     },
     "execution_count": 3,
     "metadata": {},
     "output_type": "execute_result"
    }
   ],
   "source": [
    "import pandas as pd\n",
    "import numpy as np\n",
    "df =pd.read_csv(\"test_data1_clean.csv\")\n",
    "df.head()\n",
    "df.shape"
   ]
  },
  {
   "cell_type": "code",
   "execution_count": 7,
   "id": "6da79806",
   "metadata": {},
   "outputs": [
    {
     "data": {
      "text/plain": [
       "(44, 9)"
      ]
     },
     "execution_count": 7,
     "metadata": {},
     "output_type": "execute_result"
    }
   ],
   "source": [
    "df =pd.read_csv(\"test_data2_clean.csv\")\n",
    "df.head()\n",
    "df.shape"
   ]
  },
  {
   "cell_type": "code",
   "execution_count": 8,
   "id": "9c7d5fcd",
   "metadata": {},
   "outputs": [
    {
     "data": {
      "text/plain": [
       "(88, 13)"
      ]
     },
     "execution_count": 8,
     "metadata": {},
     "output_type": "execute_result"
    }
   ],
   "source": [
    "df =pd.read_csv(\"combined_clean.csv\")\n",
    "df.head()\n",
    "df.shape"
   ]
  },
  {
   "cell_type": "code",
   "execution_count": 10,
   "id": "ebb3afe0",
   "metadata": {},
   "outputs": [
    {
     "name": "stdout",
     "output_type": "stream",
     "text": [
      "Saved as: Enhets_data_with_datetime.csv\n"
     ]
    }
   ],
   "source": [
    "import pandas as pd\n",
    "\n",
    "# Load your CSV\n",
    "file_path = \"Enhets data - Katarinasstädtjänst Enhet Grind - RSRP.csv\"\n",
    "df = pd.read_csv(file_path)\n",
    "\n",
    "# Replace 'date' column with merged datetime\n",
    "df['date'] = pd.to_datetime(\n",
    "    df['date'].astype(str) + \" \" + df['time'].astype(str),\n",
    "    errors='coerce'\n",
    ")\n",
    "\n",
    "# Drop the separate 'time' column\n",
    "df = df.drop(columns=['time'])\n",
    "\n",
    "# Optionally rename 'date' → 'datetime'\n",
    "df = df.rename(columns={'date': 'datetime'})\n",
    "\n",
    "# Save to new CSV\n",
    "output_file = \"Enhets_data_with_datetime.csv\"\n",
    "df.to_csv(output_file, index=False)\n",
    "\n",
    "print(f\"Saved as: {output_file}\")"
   ]
  },
  {
   "cell_type": "code",
   "execution_count": 12,
   "id": "50932dcc",
   "metadata": {},
   "outputs": [
    {
     "name": "stdout",
     "output_type": "stream",
     "text": [
      "Index(['  _id ', ' _uuid ', 'datetime', 'just_booted', ' reset_reason',\n",
      "       'uptime', 'fw_version', 'modem_fw_version', 'rsrp'],\n",
      "      dtype='object')\n"
     ]
    }
   ],
   "source": [
    "print(df.columns)"
   ]
  }
 ],
 "metadata": {
  "kernelspec": {
   "display_name": "Python 3",
   "language": "python",
   "name": "python3"
  },
  "language_info": {
   "codemirror_mode": {
    "name": "ipython",
    "version": 3
   },
   "file_extension": ".py",
   "mimetype": "text/x-python",
   "name": "python",
   "nbconvert_exporter": "python",
   "pygments_lexer": "ipython3",
   "version": "3.12.6"
  }
 },
 "nbformat": 4,
 "nbformat_minor": 5
}
